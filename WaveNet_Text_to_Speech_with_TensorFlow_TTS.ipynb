{
  "cells": [
    {
      "cell_type": "code",
      "source": [
        "import numpy as np\n",
        "import soundfile as sf\n",
        "import tensorflow as tf\n",
        "\n",
        "from tensorflow_tts.inference import AutoConfig\n",
        "from tensorflow_tts.inference import TFAutoModel\n",
        "from tensorflow_tts.inference import AutoProcessor\n",
        "\n",
        "def generate_speech_with_wavenet(text, output_file=\"generated_audio.wav\"):\n",
        "    \"\"\"\n",
        "    Generates speech from the given text using a pre-trained WaveNet model\n",
        "    and saves it to a WAV file.\n",
        "\n",
        "    Args:\n",
        "        text (str): The text to convert to speech.\n",
        "        output_file (str, optional): The name of the WAV file to save the\n",
        "            generated audio. Defaults to \"generated_audio.wav\".\n",
        "    \"\"\"\n",
        "    try:\n",
        "        # 1. Check for GPU availability and set memory growth\n",
        "        if len(tf.config.list_physical_devices('GPU')) > 0:\n",
        "            tf.config.experimental.set_memory_growth(\n",
        "                tf.config.list_physical_devices('GPU')[0], True\n",
        "            )\n",
        "\n",
        "        # 2. Define the WaveNet model and configuration\n",
        "        #    -  Using a specific WaveNet model from the Hugging Face\n",
        "        #       TensorFlow TTS repository.\n",
        "        wavenet_config = AutoConfig.from_pretrained(\n",
        "            \"TensorFlowTTS/tts-ljspeech-wavenet-256-16bit-ckpt.tflite\"\n",
        "        )\n",
        "        wavenet_model = TFAutoModel.from_pretrained(\n",
        "            pretrained_model_name_or_path=\"TensorFlowTTS/tts-ljspeech-wavenet-256-16bit-ckpt.tflite\",\n",
        "            config=wavenet_config,\n",
        "        )\n",
        "\n",
        "        # 3. Define the processor\n",
        "        processor = AutoProcessor.from_pretrained(\n",
        "            pretrained_model_name_or_path=\"TensorFlowTTS/tts-ljspeech-wavenet-256-16bit-ckpt.tflite\"\n",
        "        )\n",
        "\n",
        "        # 4. Process the input text\n",
        "        input_ids = processor.text_to_sequence(text)\n",
        "\n",
        "        # 5. Generate the speech (audio)\n",
        "        #    -  The model expects a batch of inputs, so we expand dimensions.\n",
        "        audio = wavenet_model.inference(\n",
        "            tf.expand_dims(input_ids, 0),\n",
        "            speaker_ids=tf.expand_dims(\n",
        "                tf.convert_to_tensor([0], dtype=tf.int32), 0\n",
        "            ),  # Add speaker ID if needed\n",
        "        )\n",
        "        audio = audio[0, :, 0].numpy()  # Get the audio data and convert to numpy\n",
        "\n",
        "        # 6. Save the generated audio to a WAV file\n",
        "        #    -  Use a sample rate that is appropriate for the model.  22050 is common.\n",
        "        sf.write(output_file, audio, 22050)\n",
        "        print(f\"Audio saved to {output_file}\")\n",
        "\n",
        "    except Exception as e:\n",
        "        print(f\"Error occurred: {e}\")\n",
        "        print(\n",
        "            \"Please make sure you have TensorFlow and TensorFlow TTS installed, and that the model name is correct.\"\n",
        "        )\n",
        "        print(\n",
        "            \"You can install the required libraries using:\\n\"\n",
        "            \"pip install tensorflow tensorflow_tts soundfile\"\n",
        "        )\n",
        "\n",
        "\n",
        "if __name__ == \"__main__\":\n",
        "    text_to_speak = (\n",
        "        \"The quick brown fox jumps over the lazy dog.  \"\n",
        "        \"This is a test of the WaveNet text-to-speech system. \"\n",
        "        \"It should generate clear and natural-sounding speech.\"\n",
        "    )\n",
        "    generate_speech_with_wavenet(text_to_speak)"
      ],
      "outputs": [
        {
          "output_type": "error",
          "ename": "ModuleNotFoundError",
          "evalue": "No module named 'tensorflow_tts'",
          "traceback": [
            "\u001b[0;31m---------------------------------------------------------------------------\u001b[0m",
            "\u001b[0;31mModuleNotFoundError\u001b[0m                       Traceback (most recent call last)",
            "\u001b[0;32m<ipython-input-1-c6c421264de3>\u001b[0m in \u001b[0;36m<cell line: 0>\u001b[0;34m()\u001b[0m\n\u001b[1;32m      3\u001b[0m \u001b[0;32mimport\u001b[0m \u001b[0mtensorflow\u001b[0m \u001b[0;32mas\u001b[0m \u001b[0mtf\u001b[0m\u001b[0;34m\u001b[0m\u001b[0;34m\u001b[0m\u001b[0m\n\u001b[1;32m      4\u001b[0m \u001b[0;34m\u001b[0m\u001b[0m\n\u001b[0;32m----> 5\u001b[0;31m \u001b[0;32mfrom\u001b[0m \u001b[0mtensorflow_tts\u001b[0m\u001b[0;34m.\u001b[0m\u001b[0minference\u001b[0m \u001b[0;32mimport\u001b[0m \u001b[0mAutoConfig\u001b[0m\u001b[0;34m\u001b[0m\u001b[0;34m\u001b[0m\u001b[0m\n\u001b[0m\u001b[1;32m      6\u001b[0m \u001b[0;32mfrom\u001b[0m \u001b[0mtensorflow_tts\u001b[0m\u001b[0;34m.\u001b[0m\u001b[0minference\u001b[0m \u001b[0;32mimport\u001b[0m \u001b[0mTFAutoModel\u001b[0m\u001b[0;34m\u001b[0m\u001b[0;34m\u001b[0m\u001b[0m\n\u001b[1;32m      7\u001b[0m \u001b[0;32mfrom\u001b[0m \u001b[0mtensorflow_tts\u001b[0m\u001b[0;34m.\u001b[0m\u001b[0minference\u001b[0m \u001b[0;32mimport\u001b[0m \u001b[0mAutoProcessor\u001b[0m\u001b[0;34m\u001b[0m\u001b[0;34m\u001b[0m\u001b[0m\n",
            "\u001b[0;31mModuleNotFoundError\u001b[0m: No module named 'tensorflow_tts'",
            "",
            "\u001b[0;31m---------------------------------------------------------------------------\u001b[0;32m\nNOTE: If your import is failing due to a missing package, you can\nmanually install dependencies using either !pip or !apt.\n\nTo view examples of installing some common dependencies, click the\n\"Open Examples\" button below.\n\u001b[0;31m---------------------------------------------------------------------------\u001b[0m\n"
          ],
          "errorDetails": {
            "actions": [
              {
                "action": "open_url",
                "actionText": "Open Examples",
                "url": "/notebooks/snippets/importing_libraries.ipynb"
              }
            ]
          }
        }
      ],
      "execution_count": null,
      "metadata": {
        "colab": {
          "base_uri": "https://localhost:8080/",
          "height": 593
        },
        "id": "lWnbl-WLeWax",
        "outputId": "102573dd-1590-41e6-974d-61c28d12fdb8"
      }
    },
    {
      "cell_type": "code",
      "source": [
        "import numpy as np\n",
        "import soundfile as sf\n",
        "import tensorflow as tf\n",
        "\n",
        "# Install tensorflow_tts using pip:\n",
        "# pip install tensorflow_tts\n",
        "\n",
        "from tensorflow_tts.inference import AutoConfig\n",
        "from tensorflow_tts.inference import TFAutoModel\n",
        "from tensorflow_tts.inference import AutoProcessor\n",
        "\n",
        "\n",
        "def generate_speech_with_wavenet(text, output_file=\"generated_audio.wav\"):\n",
        "    \"\"\"\n",
        "    Generates speech from the given text using a pre-trained WaveNet model\n",
        "    and saves it to a WAV file.\n",
        "\n",
        "    Args:\n",
        "        text (str): The text to convert to speech.\n",
        "        output_file (str, optional): The name of the WAV file to save the\n",
        "            generated audio. Defaults to \"generated_audio.wav\".\n",
        "    \"\"\"\n",
        "    try:\n",
        "        # 1. Check for GPU availability and set memory growth\n",
        "        if len(tf.config.list_physical_devices('GPU')) > 0:\n",
        "            tf.config.experimental.set_memory_growth(\n",
        "                tf.config.list_physical_devices('GPU')[0], True\n",
        "            )\n",
        "\n",
        "        # 2. Define the WaveNet model and configuration\n",
        "        #    -  Using a specific WaveNet model from the Hugging Face\n",
        "        #       TensorFlow TTS repository.\n",
        "        wavenet_config = AutoConfig.from_pretrained(\n",
        "            \"TensorFlowTTS/tts-ljspeech-wavenet-256-16bit-ckpt.tflite\"\n",
        "        )\n",
        "        wavenet_model = TFAutoModel.from_pretrained(\n",
        "            pretrained_model_name_or_path=\"TensorFlowTTS/tts-ljspeech-wavenet-256-16bit-ckpt.tflite\",\n",
        "            config=wavenet_config,\n",
        "        )\n",
        "\n",
        "        # 3. Define the processor\n",
        "        processor = AutoProcessor.from_pretrained(\n",
        "            pretrained_model_name_or_path=\"TensorFlowTTS/tts-ljspeech-wavenet-256-16bit-ckpt.tflite\"\n",
        "        )\n",
        "\n",
        "        # 4. Process the input text\n",
        "        input_ids = processor.text_to_sequence(text)\n",
        "\n",
        "        # 5. Generate the speech (audio)\n",
        "        #    -  The model expects a batch of inputs, so we expand dimensions.\n",
        "        audio = wavenet_model.inference(\n",
        "            tf.expand_dims(input_ids, 0),\n",
        "            speaker_ids=tf.expand_dims(\n",
        "                tf.convert_to_tensor([0], dtype=tf.int32), 0\n",
        "            ),  # Add speaker ID if needed\n",
        "        )\n",
        "        audio = audio[0, :, 0].numpy()  # Get the audio data and convert to numpy\n",
        "\n",
        "        # 6. Save the generated audio to a WAV file\n",
        "        #    -  Use a sample rate that is appropriate for the model.  22050 is common.\n",
        "        sf.write(output_file, audio, 22050)\n",
        "        print(f\"Audio saved to {output_file}\")\n",
        "\n",
        "    except Exception as e:\n",
        "        print(f\"Error occurred: {e}\")\n",
        "        print(\n",
        "            \"Please make sure you have TensorFlow and TensorFlow TTS installed, and that the model name is correct.\"\n",
        "        )\n",
        "        print(\n",
        "            \"You can install the required libraries using:\\n\"\n",
        "            \"pip install tensorflow tensorflow_tts soundfile\"\n",
        "        )\n",
        "\n",
        "\n",
        "if __name__ == \"__main__\":\n",
        "    text_to_speak = (\n",
        "        \"The quick brown fox jumps over the lazy dog.  \"\n",
        "        \"This is a test of the WaveNet text-to-speech system. \"\n",
        "        \"It should generate clear and natural-sounding speech.\"\n",
        "    )\n",
        "    generate_speech_with_wavenet(text_to_speak)"
      ],
      "metadata": {
        "colab": {
          "base_uri": "https://localhost:8080/",
          "height": 593
        },
        "id": "74nTOVo8e51D",
        "outputId": "fb88dc11-c6fa-4a1e-dae3-6ccdb0b28344"
      },
      "execution_count": null,
      "outputs": [
        {
          "output_type": "error",
          "ename": "ModuleNotFoundError",
          "evalue": "No module named 'tensorflow_tts'",
          "traceback": [
            "\u001b[0;31m---------------------------------------------------------------------------\u001b[0m",
            "\u001b[0;31mModuleNotFoundError\u001b[0m                       Traceback (most recent call last)",
            "\u001b[0;32m<ipython-input-2-bc0cae04c874>\u001b[0m in \u001b[0;36m<cell line: 0>\u001b[0;34m()\u001b[0m\n\u001b[1;32m      6\u001b[0m \u001b[0;31m# pip install tensorflow_tts\u001b[0m\u001b[0;34m\u001b[0m\u001b[0;34m\u001b[0m\u001b[0m\n\u001b[1;32m      7\u001b[0m \u001b[0;34m\u001b[0m\u001b[0m\n\u001b[0;32m----> 8\u001b[0;31m \u001b[0;32mfrom\u001b[0m \u001b[0mtensorflow_tts\u001b[0m\u001b[0;34m.\u001b[0m\u001b[0minference\u001b[0m \u001b[0;32mimport\u001b[0m \u001b[0mAutoConfig\u001b[0m\u001b[0;34m\u001b[0m\u001b[0;34m\u001b[0m\u001b[0m\n\u001b[0m\u001b[1;32m      9\u001b[0m \u001b[0;32mfrom\u001b[0m \u001b[0mtensorflow_tts\u001b[0m\u001b[0;34m.\u001b[0m\u001b[0minference\u001b[0m \u001b[0;32mimport\u001b[0m \u001b[0mTFAutoModel\u001b[0m\u001b[0;34m\u001b[0m\u001b[0;34m\u001b[0m\u001b[0m\n\u001b[1;32m     10\u001b[0m \u001b[0;32mfrom\u001b[0m \u001b[0mtensorflow_tts\u001b[0m\u001b[0;34m.\u001b[0m\u001b[0minference\u001b[0m \u001b[0;32mimport\u001b[0m \u001b[0mAutoProcessor\u001b[0m\u001b[0;34m\u001b[0m\u001b[0;34m\u001b[0m\u001b[0m\n",
            "\u001b[0;31mModuleNotFoundError\u001b[0m: No module named 'tensorflow_tts'",
            "",
            "\u001b[0;31m---------------------------------------------------------------------------\u001b[0;32m\nNOTE: If your import is failing due to a missing package, you can\nmanually install dependencies using either !pip or !apt.\n\nTo view examples of installing some common dependencies, click the\n\"Open Examples\" button below.\n\u001b[0;31m---------------------------------------------------------------------------\u001b[0m\n"
          ],
          "errorDetails": {
            "actions": [
              {
                "action": "open_url",
                "actionText": "Open Examples",
                "url": "/notebooks/snippets/importing_libraries.ipynb"
              }
            ]
          }
        }
      ]
    },
    {
      "cell_type": "code",
      "source": [
        "import soundfile as sf\n",
        "import tensorflow as tf\n",
        "\n",
        "from tensorflow_tts.inference import TFAutoModel\n",
        "from tensorflow_tts.inference import AutoProcessor\n",
        "\n",
        "\n",
        "def generate_speech(text, output_file=\"output.wav\"):\n",
        "    \"\"\"\n",
        "    Generates speech from text using a pre-trained WaveNet model.\n",
        "\n",
        "    Args:\n",
        "        text: The text to speak (string).\n",
        "        output_file: The name of the output WAV file (string, optional).\n",
        "    \"\"\"\n",
        "    try:\n",
        "        # Load pre-trained WaveNet model and processor\n",
        "        wavenet_model = TFAutoModel.from_pretrained(\n",
        "            \"TensorFlowTTS/tts-ljspeech-wavenet-256-16bit-ckpt.tflite\"\n",
        "        )\n",
        "        processor = AutoProcessor.from_pretrained(\n",
        "            \"TensorFlowTTS/tts-ljspeech-wavenet-256-16bit-ckpt.tflite\"\n",
        "        )\n",
        "\n",
        "        # Process text and generate audio\n",
        "        input_ids = processor.text_to_sequence(text)\n",
        "        audio = wavenet_model.inference(tf.expand_dims(input_ids, 0))[0, :, 0].numpy()\n",
        "\n",
        "        # Save the audio\n",
        "        sf.write(output_file, audio, 22050)  # Sample rate 22050 Hz\n",
        "        print(f\"Audio saved to {output_file}\")\n",
        "\n",
        "    except Exception as e:\n",
        "        print(f\"Error: {e}\")\n",
        "        print(\n",
        "            \"Please ensure TensorFlow and TensorFlow TTS are installed:\\n\"\n",
        "            \"pip install tensorflow tensorflow_tts soundfile\"\n",
        "        )\n",
        "\n",
        "\n",
        "if __name__ == \"__main__\":\n",
        "    text_to_speak = \"Hello, this is WaveNet speaking.\"\n",
        "    generate_speech(text_to_speak)"
      ],
      "metadata": {
        "colab": {
          "base_uri": "https://localhost:8080/",
          "height": 576
        },
        "id": "YioO2WO8fctw",
        "outputId": "7995a869-d78c-430e-8f3a-7cb2e86d5047"
      },
      "execution_count": null,
      "outputs": [
        {
          "output_type": "error",
          "ename": "ModuleNotFoundError",
          "evalue": "No module named 'tensorflow_tts'",
          "traceback": [
            "\u001b[0;31m---------------------------------------------------------------------------\u001b[0m",
            "\u001b[0;31mModuleNotFoundError\u001b[0m                       Traceback (most recent call last)",
            "\u001b[0;32m<ipython-input-4-d6691eae9579>\u001b[0m in \u001b[0;36m<cell line: 0>\u001b[0;34m()\u001b[0m\n\u001b[1;32m      2\u001b[0m \u001b[0;32mimport\u001b[0m \u001b[0mtensorflow\u001b[0m \u001b[0;32mas\u001b[0m \u001b[0mtf\u001b[0m\u001b[0;34m\u001b[0m\u001b[0;34m\u001b[0m\u001b[0m\n\u001b[1;32m      3\u001b[0m \u001b[0;34m\u001b[0m\u001b[0m\n\u001b[0;32m----> 4\u001b[0;31m \u001b[0;32mfrom\u001b[0m \u001b[0mtensorflow_tts\u001b[0m\u001b[0;34m.\u001b[0m\u001b[0minference\u001b[0m \u001b[0;32mimport\u001b[0m \u001b[0mTFAutoModel\u001b[0m\u001b[0;34m\u001b[0m\u001b[0;34m\u001b[0m\u001b[0m\n\u001b[0m\u001b[1;32m      5\u001b[0m \u001b[0;32mfrom\u001b[0m \u001b[0mtensorflow_tts\u001b[0m\u001b[0;34m.\u001b[0m\u001b[0minference\u001b[0m \u001b[0;32mimport\u001b[0m \u001b[0mAutoProcessor\u001b[0m\u001b[0;34m\u001b[0m\u001b[0;34m\u001b[0m\u001b[0m\n\u001b[1;32m      6\u001b[0m \u001b[0;34m\u001b[0m\u001b[0m\n",
            "\u001b[0;31mModuleNotFoundError\u001b[0m: No module named 'tensorflow_tts'",
            "",
            "\u001b[0;31m---------------------------------------------------------------------------\u001b[0;32m\nNOTE: If your import is failing due to a missing package, you can\nmanually install dependencies using either !pip or !apt.\n\nTo view examples of installing some common dependencies, click the\n\"Open Examples\" button below.\n\u001b[0;31m---------------------------------------------------------------------------\u001b[0m\n"
          ],
          "errorDetails": {
            "actions": [
              {
                "action": "open_url",
                "actionText": "Open Examples",
                "url": "/notebooks/snippets/importing_libraries.ipynb"
              }
            ]
          }
        }
      ]
    },
    {
      "cell_type": "code",
      "source": [
        "import soundfile as sf\n",
        "import tensorflow as tf\n",
        "\n",
        "# Install tensorflow_tts using pip:\n",
        "# pip install tensorflow_tts\n",
        "\n",
        "from tensorflow_tts.inference import TFAutoModel\n",
        "from tensorflow_tts.inference import AutoProcessor\n",
        "\n",
        "\n",
        "def generate_speech(text, output_file=\"output.wav\"):\n",
        "    \"\"\"\n",
        "    Generates speech from text using a pre-trained WaveNet model.\n",
        "\n",
        "    Args:\n",
        "        text: The text to speak (string).\n",
        "        output_file: The name of the output WAV file (string, optional).\n",
        "    \"\"\"\n",
        "    try:\n",
        "        # Load pre-trained WaveNet model and processor\n",
        "        wavenet_model = TFAutoModel.from_pretrained(\n",
        "            \"TensorFlowTTS/tts-ljspeech-wavenet-256-16bit-ckpt.tflite\"\n",
        "        )\n",
        "        processor = AutoProcessor.from_pretrained(\n",
        "            \"TensorFlowTTS/tts-ljspeech-wavenet-256-16bit-ckpt.tflite\"\n",
        "        )\n",
        "\n",
        "        # Process text and generate audio\n",
        "        input_ids = processor.text_to_sequence(text)\n",
        "        audio = wavenet_model.inference(tf.expand_dims(input_ids, 0))[0, :, 0].numpy()\n",
        "\n",
        "        # Save the audio\n",
        "        sf.write(output_file, audio, 22050)  # Sample rate 22050 Hz\n",
        "        print(f\"Audio saved to {output_file}\")\n",
        "\n",
        "    except Exception as e:\n",
        "        print(f\"Error: {e}\")\n",
        "        print(\n",
        "            \"Please ensure TensorFlow and TensorFlow TTS are installed:\\n\"\n",
        "            \"pip install tensorflow tensorflow_tts soundfile\"\n",
        "        )\n",
        "\n",
        "\n",
        "if __name__ == \"__main__\":\n",
        "    text_to_speak = \"Hello, this is WaveNet speaking.\"\n",
        "    generate_speech(text_to_speak)"
      ],
      "metadata": {
        "id": "MuoywJ9NfvWT",
        "outputId": "85f68c41-ff07-4ace-d451-6312f9318df8",
        "colab": {
          "base_uri": "https://localhost:8080/",
          "height": 576
        }
      },
      "execution_count": null,
      "outputs": [
        {
          "output_type": "error",
          "ename": "ModuleNotFoundError",
          "evalue": "No module named 'tensorflow_tts'",
          "traceback": [
            "\u001b[0;31m---------------------------------------------------------------------------\u001b[0m",
            "\u001b[0;31mModuleNotFoundError\u001b[0m                       Traceback (most recent call last)",
            "\u001b[0;32m<ipython-input-5-8d4c2dbe3aec>\u001b[0m in \u001b[0;36m<cell line: 0>\u001b[0;34m()\u001b[0m\n\u001b[1;32m      5\u001b[0m \u001b[0;31m# pip install tensorflow_tts\u001b[0m\u001b[0;34m\u001b[0m\u001b[0;34m\u001b[0m\u001b[0m\n\u001b[1;32m      6\u001b[0m \u001b[0;34m\u001b[0m\u001b[0m\n\u001b[0;32m----> 7\u001b[0;31m \u001b[0;32mfrom\u001b[0m \u001b[0mtensorflow_tts\u001b[0m\u001b[0;34m.\u001b[0m\u001b[0minference\u001b[0m \u001b[0;32mimport\u001b[0m \u001b[0mTFAutoModel\u001b[0m\u001b[0;34m\u001b[0m\u001b[0;34m\u001b[0m\u001b[0m\n\u001b[0m\u001b[1;32m      8\u001b[0m \u001b[0;32mfrom\u001b[0m \u001b[0mtensorflow_tts\u001b[0m\u001b[0;34m.\u001b[0m\u001b[0minference\u001b[0m \u001b[0;32mimport\u001b[0m \u001b[0mAutoProcessor\u001b[0m\u001b[0;34m\u001b[0m\u001b[0;34m\u001b[0m\u001b[0m\n\u001b[1;32m      9\u001b[0m \u001b[0;34m\u001b[0m\u001b[0m\n",
            "\u001b[0;31mModuleNotFoundError\u001b[0m: No module named 'tensorflow_tts'",
            "",
            "\u001b[0;31m---------------------------------------------------------------------------\u001b[0;32m\nNOTE: If your import is failing due to a missing package, you can\nmanually install dependencies using either !pip or !apt.\n\nTo view examples of installing some common dependencies, click the\n\"Open Examples\" button below.\n\u001b[0;31m---------------------------------------------------------------------------\u001b[0m\n"
          ],
          "errorDetails": {
            "actions": [
              {
                "action": "open_url",
                "actionText": "Open Examples",
                "url": "/notebooks/snippets/importing_libraries.ipynb"
              }
            ]
          }
        }
      ]
    }
  ],
  "metadata": {
    "colab": {
      "provenance": []
    },
    "kernelspec": {
      "display_name": "Python 3",
      "name": "python3"
    }
  },
  "nbformat": 4,
  "nbformat_minor": 0
}